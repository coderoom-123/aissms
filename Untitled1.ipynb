{
 "cells": [
  {
   "cell_type": "code",
   "execution_count": null,
   "id": "c8565ec8-5b7a-41a8-a7c5-54c815d4644c",
   "metadata": {},
   "outputs": [],
   "source": []
  }
 ],
 "metadata": {
  "kernelspec": {
   "display_name": "",
   "name": ""
  },
  "language_info": {
   "name": ""
  }
 },
 "nbformat": 4,
 "nbformat_minor": 5
}
